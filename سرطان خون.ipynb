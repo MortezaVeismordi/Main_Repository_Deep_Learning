{
 "cells": [
  {
   "cell_type": "code",
   "execution_count": 1,
   "metadata": {
    "colab": {
     "base_uri": "https://localhost:8080/"
    },
    "executionInfo": {
     "elapsed": 10806,
     "status": "ok",
     "timestamp": 1732135674183,
     "user": {
      "displayName": "morteza veismordi",
      "userId": "09814321177335362587"
     },
     "user_tz": -210
    },
    "id": "INBH5xQIVEFa",
    "outputId": "956878f1-90f4-478b-ec1a-d741f968287b"
   },
   "outputs": [
    {
     "name": "stdout",
     "output_type": "stream",
     "text": [
      "Downloading from https://www.kaggle.com/api/v1/datasets/download/akhiljethwa/blood-cancer-image-dataset?dataset_version_number=1...\n"
     ]
    },
    {
     "name": "stderr",
     "output_type": "stream",
     "text": [
      "100%|██████████| 102M/102M [00:01<00:00, 74.2MB/s] "
     ]
    },
    {
     "name": "stdout",
     "output_type": "stream",
     "text": [
      "Extracting files...\n"
     ]
    },
    {
     "name": "stderr",
     "output_type": "stream",
     "text": [
      "\n"
     ]
    },
    {
     "name": "stdout",
     "output_type": "stream",
     "text": [
      "Path to dataset files: /root/.cache/kagglehub/datasets/akhiljethwa/blood-cancer-image-dataset/versions/1\n"
     ]
    }
   ],
   "source": [
    "import kagglehub\n",
    "\n",
    "# Download latest version\n",
    "path = kagglehub.dataset_download(\"akhiljethwa/blood-cancer-image-dataset\")\n",
    "\n",
    "print(\"Path to dataset files:\", path)"
   ]
  },
  {
   "cell_type": "code",
   "execution_count": null,
   "metadata": {
    "executionInfo": {
     "elapsed": 8712,
     "status": "ok",
     "timestamp": 1732135684704,
     "user": {
      "displayName": "morteza veismordi",
      "userId": "09814321177335362587"
     },
     "user_tz": -210
    },
    "id": "Sd75dlU-VKH5"
   },
   "outputs": [],
   "source": [
    "import os\n",
    "import numpy as np\n",
    "from PIL import Image\n",
    "\n",
    "import tensorflow as tf\n",
    "from tensorflow.keras.preprocessing.image import ImageDataGenerator\n",
    "from tensorflow.keras.models import Sequential\n",
    "from tensorflow.keras.layers import Conv2D, MaxPooling2D, Flatten, Dense, Dropout\n",
    "\n",
    "from sklearn.model_selection import train_test_split"
   ]
  },
  {
   "cell_type": "code",
   "execution_count": null,
   "metadata": {
    "colab": {
     "base_uri": "https://localhost:8080/"
    },
    "executionInfo": {
     "elapsed": 9391,
     "status": "ok",
     "timestamp": 1732136401381,
     "user": {
      "displayName": "morteza veismordi",
      "userId": "09814321177335362587"
     },
     "user_tz": -210
    },
    "id": "g4h38_-IXQJC",
    "outputId": "4dff1c4e-e46a-4753-89d6-65463c9ea7d8"
   },
   "outputs": [
    {
     "name": "stdout",
     "output_type": "stream",
     "text": [
      "Shape of images: (10000, 64, 64, 3)\n"
     ]
    }
   ],
   "source": [
    "data_path = \"/root/.cache/kagglehub/datasets/akhiljethwa/blood-cancer-image-dataset/versions/1/Blood_Cancer\"\n",
    "image_files = [os.path.join(data_path, f) for f in os.listdir(data_path) if f.endswith('.tiff')]\n",
    "\n",
    "images = []\n",
    "for file in image_files:\n",
    "    img = Image.open(file).convert(\"RGB\")\n",
    "    img = img.resize((64, 64))\n",
    "    img_array = np.array(img) / 255.0  \n",
    "    images.append(img_array)\n",
    "\n",
    "images = np.array(images)\n",
    "print(f\"Shape of images: {images.shape}\")"
   ]
  },
  {
   "cell_type": "code",
   "execution_count": null,
   "metadata": {
    "executionInfo": {
     "elapsed": 416,
     "status": "ok",
     "timestamp": 1732136405382,
     "user": {
      "displayName": "morteza veismordi",
      "userId": "09814321177335362587"
     },
     "user_tz": -210
    },
    "id": "yDo5M8UyXUQz"
   },
   "outputs": [],
   "source": [
    "labels = np.ones((images.shape[0],))"
   ]
  },
  {
   "cell_type": "code",
   "execution_count": 27,
   "metadata": {
    "executionInfo": {
     "elapsed": 410,
     "status": "ok",
     "timestamp": 1732136406218,
     "user": {
      "displayName": "morteza veismordi",
      "userId": "09814321177335362587"
     },
     "user_tz": -210
    },
    "id": "GA-VXjIMXcZB"
   },
   "outputs": [],
   "source": [
    "train_images, val_images, train_labels, val_labels = train_test_split(\n",
    "    images, labels, test_size=0.2, random_state=42\n",
    ")"
   ]
  },
  {
   "cell_type": "code",
   "execution_count": null,
   "metadata": {
    "colab": {
     "base_uri": "https://localhost:8080/"
    },
    "executionInfo": {
     "elapsed": 54083,
     "status": "ok",
     "timestamp": 1732136598669,
     "user": {
      "displayName": "morteza veismordi",
      "userId": "09814321177335362587"
     },
     "user_tz": -210
    },
    "id": "Mg2oVZIzXe5e",
    "outputId": "ced4d0e4-74dd-441c-b2b9-d6da70b75ca2"
   },
   "outputs": [
    {
     "name": "stdout",
     "output_type": "stream",
     "text": [
      "\u001b[1m125/125\u001b[0m \u001b[32m━━━━━━━━━━━━━━━━━━━━\u001b[0m\u001b[37m\u001b[0m \u001b[1m53s\u001b[0m 413ms/step - accuracy: 0.9691 - loss: 0.0357 - val_accuracy: 1.0000 - val_loss: 5.6084e-28\n"
     ]
    }
   ],
   "source": [
    "model = Sequential([\n",
    "    Conv2D(32, (3, 3), activation='relu', input_shape=(64, 64, 3)),\n",
    "    MaxPooling2D((2, 2)),\n",
    "    Conv2D(64, (3, 3), activation='relu'),\n",
    "    MaxPooling2D((2, 2)),\n",
    "    Flatten(),\n",
    "    Dense(128, activation='relu'),\n",
    "    Dropout(0.5),\n",
    "    Dense(1, activation='sigmoid')\n",
    "])\n",
    "model.compile(optimizer='adam', loss='binary_crossentropy', metrics=['accuracy'])\n",
    "\n",
    "history = model.fit(\n",
    "    train_images, train_labels,\n",
    "    validation_data=(val_images, val_labels),\n",
    "    epochs=1,\n",
    "    batch_size=64\n",
    ")"
   ]
  },
  {
   "cell_type": "code",
   "execution_count": null,
   "metadata": {
    "colab": {
     "base_uri": "https://localhost:8080/"
    },
    "executionInfo": {
     "elapsed": 26946,
     "status": "ok",
     "timestamp": 1732136625612,
     "user": {
      "displayName": "morteza veismordi",
      "userId": "09814321177335362587"
     },
     "user_tz": -210
    },
    "id": "y9aFisgwXhju",
    "outputId": "9d4c2d6e-b5ef-4e6d-d6a6-7a53e046b40b"
   },
   "outputs": [
    {
     "name": "stdout",
     "output_type": "stream",
     "text": [
      "\u001b[1m250/250\u001b[0m \u001b[32m━━━━━━━━━━━━━━━━━━━━\u001b[0m\u001b[37m\u001b[0m \u001b[1m13s\u001b[0m 52ms/step - accuracy: 1.0000 - loss: 1.4218e-26\n",
      "\u001b[1m63/63\u001b[0m \u001b[32m━━━━━━━━━━━━━━━━━━━━\u001b[0m\u001b[37m\u001b[0m \u001b[1m4s\u001b[0m 61ms/step - accuracy: 1.0000 - loss: 6.1557e-28\n",
      "Training accuracy: 100.00%\n",
      "Validation accuracy: 100.00%\n"
     ]
    }
   ],
   "source": [
    "train_loss, train_acc = model.evaluate(train_images, train_labels)\n",
    "val_loss, val_acc = model.evaluate(val_images, val_labels)\n",
    "print(f\"Training accuracy: {train_acc * 100:.2f}%\")\n",
    "print(f\"Validation accuracy: {val_acc * 100:.2f}%\")"
   ]
  }
 ],
 "metadata": {
  "colab": {
   "authorship_tag": "ABX9TyO6Xo7dkUtS9iZzXa+yrsmH",
   "provenance": []
  },
  "kernelspec": {
   "display_name": "Python 3",
   "name": "python3"
  },
  "language_info": {
   "name": "python"
  }
 },
 "nbformat": 4,
 "nbformat_minor": 0
}
